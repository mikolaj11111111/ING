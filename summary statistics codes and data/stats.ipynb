{
 "cells": [
  {
   "cell_type": "code",
   "execution_count": 20,
   "metadata": {},
   "outputs": [
    {
     "name": "stdout",
     "output_type": "stream",
     "text": [
      "      crude_oil_pln  copper_pln  gravel_pln  concrete_pln   steel_pln  \\\n",
      "mean     347.296553   16.894210  566.515503    546.434010  519.660586   \n",
      "std       78.731052    5.030154  133.995900    127.742340  147.765482   \n",
      "min      208.187071    8.782443  398.690000    391.312627  354.006537   \n",
      "25%      270.596058   11.827027  456.369640    443.100069  423.945274   \n",
      "50%      359.483313   16.873099  530.153368    512.148135  458.406557   \n",
      "75%      395.385413   20.133177  649.939904    608.089587  578.902674   \n",
      "max      499.449739   26.150497  839.347940    794.166545  931.166735   \n",
      "\n",
      "      electricity_pln_kwh  \\\n",
      "mean             0.703333   \n",
      "std              0.122940   \n",
      "min              0.570000   \n",
      "25%              0.620000   \n",
      "50%              0.660000   \n",
      "75%              0.760000   \n",
      "max              1.030000   \n",
      "\n",
      "      Polystyrene Foam Product Manufacturing: Building and Construction Polystyrene Foam  \\\n",
      "mean                                           0.284585                                    \n",
      "std                                            0.319404                                    \n",
      "min                                            0.000000                                    \n",
      "25%                                            0.097151                                    \n",
      "50%                                            0.154742                                    \n",
      "75%                                            0.199939                                    \n",
      "max                                            1.000000                                    \n",
      "\n",
      "      Wynagrodzenia budownictwo - MAZOWIECKIE https://bdl.stat.gov.pl/bdl/dane/podgrup/tablica GUS - BDL  \\\n",
      "mean                                        6314.097833                                                    \n",
      "std                                         1498.718240                                                    \n",
      "min                                         4513.140000                                                    \n",
      "25%                                         4993.275000                                                    \n",
      "50%                                         5776.215000                                                    \n",
      "75%                                         7197.437500                                                    \n",
      "max                                         9984.940000                                                    \n",
      "\n",
      "      Wynagrodzenia - obsługa rynku nierucomości - MAZOWIECKIE  \\\n",
      "mean                                        6588.379833          \n",
      "std                                         1837.377883          \n",
      "min                                         4285.320000          \n",
      "25%                                         4994.507500          \n",
      "50%                                         6245.585000          \n",
      "75%                                         7688.030000          \n",
      "max                                        10953.500000          \n",
      "\n",
      "      Polystyrene Foam Product Manufacturing: Building and Construction Polystyrene Foam.1  \n",
      "mean                                         150.251633                                     \n",
      "std                                           42.519807                                     \n",
      "min                                          112.367000                                     \n",
      "25%                                          125.300025                                     \n",
      "50%                                          132.966650                                     \n",
      "75%                                          138.983300                                     \n",
      "max                                          245.489300                                     \n"
     ]
    }
   ],
   "source": [
    "import pandas as pd\n",
    "\n",
    "df = pd.read_excel('DANE.xlsx',sheet_name='data_stat')\n",
    "\n",
    "numeric_cols = df.columns[2:12]  \n",
    "\n",
    "for col in numeric_cols:\n",
    "    df[col] = df[col].astype(str).str.replace(',', '.').astype(float)\n",
    "\n",
    "stats = df[numeric_cols].describe().drop('count')\n",
    "\n",
    "print(stats)\n"
   ]
  }
 ],
 "metadata": {
  "kernelspec": {
   "display_name": "Python 3",
   "language": "python",
   "name": "python3"
  },
  "language_info": {
   "codemirror_mode": {
    "name": "ipython",
    "version": 3
   },
   "file_extension": ".py",
   "mimetype": "text/x-python",
   "name": "python",
   "nbconvert_exporter": "python",
   "pygments_lexer": "ipython3",
   "version": "3.12.9"
  }
 },
 "nbformat": 4,
 "nbformat_minor": 2
}
